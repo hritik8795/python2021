{
 "cells": [
  {
   "cell_type": "code",
   "execution_count": null,
   "metadata": {},
   "outputs": [],
   "source": [
    "# Program make a simple calculator\n",
    "\n",
    "# This function adds two numbers\n",
    "def add(x, y):\n",
    "    return x + y\n",
    "\n",
    "# This function subtracts two numbers\n",
    "def subtract(x, y):\n",
    "    return x - y\n",
    "\n",
    "# This function multiplies two numbers\n",
    "def multiply(x, y):\n",
    "    return x * y\n",
    "\n",
    "# This function divides two numbers\n",
    "def divide(x, y):\n",
    "    return x / y\n",
    "# this function is for average  of the number\n",
    "def average(x,y):\n",
    "    return(x+y)/2\n",
    "\n",
    "\n",
    "\n",
    "print(\"Select operation.\")\n",
    "print(\"1.Add\")\n",
    "print(\"2.Subtract\")\n",
    "print(\"3.Multiply\")\n",
    "print(\"4.Divide\")\n",
    "print(\"5.average\")\n",
    "\n",
    "while True:\n",
    "    # Take input from the user\n",
    "    choice = input(\"Enter choice(1/2/3/4/5 \")\n",
    "\n",
    "    # Check if choice is one of the four options\n",
    "    if choice in ('1', '2', '3', '4','5'):\n",
    "        num1 = float(input(\"Enter first number: \"))\n",
    "        num2 = float(input(\"Enter second number: \"))\n",
    "\n",
    "        if choice == '1':\n",
    "            print(num1, \"+\", num2, \"=\", add(num1, num2))\n",
    "\n",
    "        elif choice == '2':\n",
    "            print(num1, \"-\", num2, \"=\", subtract(num1, num2))\n",
    "\n",
    "        elif choice == '3':\n",
    "            print(num1, \"*\", num2, \"=\", multiply(num1, num2))\n",
    "\n",
    "        elif choice == '4':\n",
    "            print(num1, \"/\", num2, \"=\", divide(num1, num2))\n",
    "        elif choice =='5':\n",
    "            print(num1,\"average\",num2,\"=\",average(num1, num2))\n",
    "             break\n",
    "    else:\n",
    "        print(\"Invalid Input\")"
   ]
  },
  {
   "cell_type": "code",
   "execution_count": null,
   "metadata": {},
   "outputs": [
    {
     "name": "stdout",
     "output_type": "stream",
     "text": [
      "welcome in our service\n",
      "enter your passsword1234\n",
      "hii, solemn\n",
      "what do you want\n",
      "1.credit money2.withdraw money3.check balance4.quit\n",
      "enter from these option3\n",
      "your balance is   100000\n",
      "enter from these option1\n",
      "enter money that you want to be credit12345677\n",
      "your account balance is 12445677\n",
      "enter from these option2\n"
     ]
    }
   ],
   "source": [
    "print(\"welcome in our service\")\n",
    "number=int(input(\"enter your passsword\"))\n",
    "if number!=1234:\n",
    "    print(\"sorry\")\n",
    "else:\n",
    "    account_balance=100000\n",
    "    print(\"hii, solemn\")\n",
    "    print(\"what do you want\")\n",
    "    print(\"1.credit money\"\n",
    "          \"2.withdraw money\"\n",
    "          \"3.check balance\"\n",
    "          \"4.quit\")\n",
    "    while True :\n",
    "        option = int(input(\"enter from these option\"))\n",
    "        if (option ==1):\n",
    "            credited_money=int(input(\"enter money that you want to be credit\"))\n",
    "            print(\"your account balance is\",credited_money+account_balance)\n",
    "        elif (option ==2):\n",
    "                withdraw_money=int(input(\"enter money that you want to withdraw\"))\n",
    "                print(\"your current balance is \",account_balance-withdraw_money)\n",
    "        elif(option ==3):\n",
    "                print(\"your balance is  \",account_balance)\n",
    "        elif(option==4):\n",
    "                print(\"quit\")\n",
    "        continue"
   ]
  },
  {
   "cell_type": "code",
   "execution_count": null,
   "metadata": {},
   "outputs": [],
   "source": []
  }
 ],
 "metadata": {
  "kernelspec": {
   "display_name": "Python 3",
   "language": "python",
   "name": "python3"
  },
  "language_info": {
   "codemirror_mode": {
    "name": "ipython",
    "version": 3
   },
   "file_extension": ".py",
   "mimetype": "text/x-python",
   "name": "python",
   "nbconvert_exporter": "python",
   "pygments_lexer": "ipython3",
   "version": "3.7.4"
  }
 },
 "nbformat": 4,
 "nbformat_minor": 4
}
