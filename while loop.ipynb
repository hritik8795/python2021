{
 "cells": [
  {
   "cell_type": "code",
   "execution_count": null,
   "metadata": {},
   "outputs": [],
   "source": [
    "var1=0\n",
    "\n",
    "while var1<=10:\n",
    "    print(\"the value of var1 is\",var1)\n",
    "    var1 +=1"
   ]
  },
  {
   "cell_type": "code",
   "execution_count": 2,
   "metadata": {},
   "outputs": [
    {
     "name": "stdout",
     "output_type": "stream",
     "text": [
      "enter the choosen_exiteast\n",
      "you are now out of loop\n",
      "enter the choosen_exitquit\n",
      "gameover\n"
     ]
    }
   ],
   "source": [
    "available_exit=[\"south\",\"north_east\",\"west\"]\n",
    "choosen_exit=\"\"\n",
    "while choosen_exit not in available_exit:\n",
    "    choosen_exit=input(\"enter the choosen_exit\")\n",
    "    if choosen_exit==\"quit\":\n",
    "        print(\"gameover\")\n",
    "        break\n",
    "    else:\n",
    "        print(\"you are now out of loop\")"
   ]
  },
  {
   "cell_type": "code",
   "execution_count": null,
   "metadata": {},
   "outputs": [],
   "source": []
  }
 ],
 "metadata": {
  "kernelspec": {
   "display_name": "Python 3",
   "language": "python",
   "name": "python3"
  },
  "language_info": {
   "codemirror_mode": {
    "name": "ipython",
    "version": 3
   },
   "file_extension": ".py",
   "mimetype": "text/x-python",
   "name": "python",
   "nbconvert_exporter": "python",
   "pygments_lexer": "ipython3",
   "version": "3.7.4"
  }
 },
 "nbformat": 4,
 "nbformat_minor": 4
}
