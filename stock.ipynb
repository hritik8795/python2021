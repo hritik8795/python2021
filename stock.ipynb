{
 "cells": [
  {
   "cell_type": "code",
   "execution_count": 36,
   "metadata": {
    "scrolled": true
   },
   "outputs": [
    {
     "name": "stdout",
     "output_type": "stream",
     "text": [
      "joy paid for share 82400.0\n",
      "during buy the share joy give to the broker 2400.0\n",
      "amount that joe sold the stock + $ + 88065.0\n",
      "commision of broker during sell stock 2565.0\n",
      "joe have left money when he sell the stock is $ 5500.0\n"
     ]
    }
   ],
   "source": [
    "sold_share=purchase_share = 2000\n",
    "spend_money=40\n",
    "pay_money =purchase_share*spend_money\n",
    "broker_fee = pay_money*.03\n",
    "total_fee = pay_money + broker_fee\n",
    "\n",
    "\n",
    "sold_stock = 42.75\n",
    "sold_money = sold_share*sold_stock\n",
    "broker_fee2= sold_money*0.03\n",
    "total_soldfee=sold_money+broker_fee2\n",
    "\n",
    "last_money =sold_money-pay_money\n",
    "\n",
    "\n",
    "if last_money==\"+ve\":\n",
    "    print(\"prifit\")\n",
    "\n",
    "\n",
    "print(\"joy paid for share\",total_fee)\n",
    "print(\"during buy the share joy give to the broker\",broker_fee)\n",
    "print(\"amount that joe sold the stock + $ +\",total_soldfee)\n",
    "print(\"commision of broker during sell stock\",broker_fee2)\n",
    "print(\"joe have left money when he sell the stock is \"+\"$\",last_money)\n",
    "\n"
   ]
  },
  {
   "cell_type": "code",
   "execution_count": null,
   "metadata": {},
   "outputs": [],
   "source": [
    "import numpy as np\n",
    "myArray = np.array([n])"
   ]
  },
  {
   "cell_type": "code",
   "execution_count": null,
   "metadata": {},
   "outputs": [],
   "source": []
  },
  {
   "cell_type": "code",
   "execution_count": null,
   "metadata": {},
   "outputs": [],
   "source": []
  }
 ],
 "metadata": {
  "kernelspec": {
   "display_name": "Python 3",
   "language": "python",
   "name": "python3"
  },
  "language_info": {
   "codemirror_mode": {
    "name": "ipython",
    "version": 3
   },
   "file_extension": ".py",
   "mimetype": "text/x-python",
   "name": "python",
   "nbconvert_exporter": "python",
   "pygments_lexer": "ipython3",
   "version": "3.7.4"
  }
 },
 "nbformat": 4,
 "nbformat_minor": 4
}
