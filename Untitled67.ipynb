{
 "cells": [
  {
   "cell_type": "code",
   "execution_count": 12,
   "metadata": {},
   "outputs": [],
   "source": [
    "import pyttsx3\n",
    "import pyaudio\n",
    "engine = pyttsx3.init()\n",
    "engine.say(\"hii ritik why u miss me\")\n",
    "voices = engine.getProperty('voices')       #getting details of current voice\n",
    "#engine.setProperty('voice', voices[0].id)  #changing index, changes voices. o for male\n",
    "engine.setProperty('voice', voices[1].id)   #changing index, changes voices. 1 for female\n",
    "rate = engine.getProperty('rate')   # getting details of current speaking rate\n",
    "#print (rate)                        #printing current voice rate\n",
    "engine.setProperty('rate', 120)     # setting up new voice rate\n",
    "\n",
    "\n",
    "engine.runAndWait()"
   ]
  },
  {
   "cell_type": "code",
   "execution_count": 16,
   "metadata": {},
   "outputs": [
    {
     "name": "stdout",
     "output_type": "stream",
     "text": [
      "14\n"
     ]
    }
   ],
   "source": [
    "def add():\n",
    "    print(5+9)\n",
    "add()"
   ]
  },
  {
   "cell_type": "code",
   "execution_count": 20,
   "metadata": {},
   "outputs": [
    {
     "name": "stdout",
     "output_type": "stream",
     "text": [
      "add 7\n"
     ]
    }
   ],
   "source": [
    "def sub(var1,var2):\n",
    "    var3=var1-var2\n",
    "    print(\"add\",var3)\n",
    "sub(10,3)"
   ]
  },
  {
   "cell_type": "code",
   "execution_count": 21,
   "metadata": {},
   "outputs": [
    {
     "name": "stdout",
     "output_type": "stream",
     "text": [
      "enter the var112\n",
      "enter the var212\n",
      "144\n"
     ]
    }
   ],
   "source": [
    "#no arg but return \n",
    "def multiply():\n",
    "    var1=int(input(\"enter the var1\"))\n",
    "    var2=int(input(\"enter the var2\"))\n",
    "    var3= var1*var2\n",
    "    return var3\n",
    "var4=multiply()\n",
    "print(var4)"
   ]
  },
  {
   "cell_type": "code",
   "execution_count": 22,
   "metadata": {},
   "outputs": [
    {
     "name": "stdout",
     "output_type": "stream",
     "text": [
      "7.0\n"
     ]
    }
   ],
   "source": [
    "def division(var1,var2):\n",
    "    var3=var1/var2\n",
    "    return var3\n",
    "var4=division(49,7)\n",
    "print(var4)"
   ]
  },
  {
   "cell_type": "code",
   "execution_count": null,
   "metadata": {},
   "outputs": [],
   "source": []
  }
 ],
 "metadata": {
  "kernelspec": {
   "display_name": "Python 3",
   "language": "python",
   "name": "python3"
  },
  "language_info": {
   "codemirror_mode": {
    "name": "ipython",
    "version": 3
   },
   "file_extension": ".py",
   "mimetype": "text/x-python",
   "name": "python",
   "nbconvert_exporter": "python",
   "pygments_lexer": "ipython3",
   "version": "3.7.4"
  }
 },
 "nbformat": 4,
 "nbformat_minor": 4
}
