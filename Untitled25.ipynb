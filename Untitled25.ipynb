{
 "cells": [
  {
   "cell_type": "code",
   "execution_count": null,
   "metadata": {},
   "outputs": [],
   "source": [
    "base_cookie=48\n",
    "sugarFor48cookie=1.5\n",
    "butterFor48cookie=1\n",
    "creamFor48cookie=4\n",
    "\n",
    "number=float(input(\"enter the number of cookie that u want to make\"))\n",
    "sugarneed=sugarFor48cookie/base_cookie *number\n",
    "butterneed=butterFor48cookie/base_cookie *number\n",
    "creamneed=creamFor48cookie/base_cookie *number\n",
    "total=sugarneed+butterneed+creamneed\n",
    "print(sugarneed,\"sugarneed\",butterneed,\"butterneed\",creamneed,\"creamneed\")\n",
    "print(total,\"total need of indegrident\")  "
   ]
  },
  {
   "cell_type": "code",
   "execution_count": null,
   "metadata": {},
   "outputs": [],
   "source": []
  },
  {
   "cell_type": "code",
   "execution_count": null,
   "metadata": {},
   "outputs": [],
   "source": [
    "def fibonacci(n):\n",
    "    assert n>=0 and int(n)==n,'the value is +ve integer '\n",
    "    if n in [0,1]:\n",
    "        return n\n",
    "    else:\n",
    "        return fibonacci(n-1)+fibonacci(n-2)\n",
    "print(fibonacci(8))"
   ]
  },
  {
   "cell_type": "code",
   "execution_count": null,
   "metadata": {},
   "outputs": [],
   "source": []
  }
 ],
 "metadata": {
  "kernelspec": {
   "display_name": "Python 3",
   "language": "python",
   "name": "python3"
  },
  "language_info": {
   "codemirror_mode": {
    "name": "ipython",
    "version": 3
   },
   "file_extension": ".py",
   "mimetype": "text/x-python",
   "name": "python",
   "nbconvert_exporter": "python",
   "pygments_lexer": "ipython3",
   "version": "3.7.4"
  }
 },
 "nbformat": 4,
 "nbformat_minor": 4
}
