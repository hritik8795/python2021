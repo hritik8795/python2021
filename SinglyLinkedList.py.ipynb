{
 "cells": [
  {
   "cell_type": "code",
   "execution_count": 5,
   "metadata": {},
   "outputs": [
    {
     "name": "stdout",
     "output_type": "stream",
     "text": [
      "[1, 2, 3, 4]\n"
     ]
    }
   ],
   "source": [
    "class Node:\n",
    "    def __init__(self,value=None):\n",
    "        self.value = value\n",
    "        self.next= None\n",
    "class SLinkedList:\n",
    "    def __init__(self):\n",
    "        self.head=None\n",
    "        self.tail=None\n",
    "    def __iter__(self):\n",
    "        node = self.head\n",
    "        while node:\n",
    "            yield node\n",
    "            node = node.next\n",
    "#insert in linked list\n",
    "    def insertSLL(self, value, location):\n",
    "        newNode = Node(value)\n",
    "        if self.head is None:\n",
    "            self.head =newNode \n",
    "            self.tail =newNode\n",
    "        else:\n",
    "            if location ==0:\n",
    "                newNode.next=self.head\n",
    "                self.head=newNode\n",
    "            elif location ==1:\n",
    "                newNode.next =None\n",
    "                self.tail.next = newNode\n",
    "                self.tail=newNode\n",
    "            else:\n",
    "                tempNode = self.head\n",
    "                index=0\n",
    "                while index < location-1:\n",
    "                    tempNode = tempNode.next\n",
    "                    index += 1\n",
    "                nextNode = tempNode.next\n",
    "                tempNode.next = newNode\n",
    "                newNode.next = nextNode\n",
    "\n",
    "singlyLinkedList = SLinkedList()\n",
    "singlyLinkedList.insertSLL(1,1)\n",
    "singlyLinkedList . insertSLL(2,1)\n",
    "singlyLinkedList . insertSLL(3,1)\n",
    "singlyLinkedList . insertSLL(4,1)\n",
    "print([node.value for node in singlyLinkedList])"
   ]
  },
  {
   "cell_type": "code",
   "execution_count": null,
   "metadata": {},
   "outputs": [],
   "source": []
  }
 ],
 "metadata": {
  "kernelspec": {
   "display_name": "Python 3",
   "language": "python",
   "name": "python3"
  },
  "language_info": {
   "codemirror_mode": {
    "name": "ipython",
    "version": 3
   },
   "file_extension": ".py",
   "mimetype": "text/x-python",
   "name": "python",
   "nbconvert_exporter": "python",
   "pygments_lexer": "ipython3",
   "version": "3.7.4"
  }
 },
 "nbformat": 4,
 "nbformat_minor": 4
}
