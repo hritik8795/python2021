{
 "cells": [
  {
   "cell_type": "code",
   "execution_count": 1,
   "metadata": {},
   "outputs": [],
   "source": [
    "#inthis programm"
   ]
  },
  {
   "cell_type": "code",
   "execution_count": 7,
   "metadata": {},
   "outputs": [
    {
     "ename": "SyntaxError",
     "evalue": "invalid syntax (<ipython-input-7-e7a9c0df972d>, line 22)",
     "output_type": "error",
     "traceback": [
      "\u001b[1;36m  File \u001b[1;32m\"<ipython-input-7-e7a9c0df972d>\"\u001b[1;36m, line \u001b[1;32m22\u001b[0m\n\u001b[1;33m    elif :\u001b[0m\n\u001b[1;37m       ^\u001b[0m\n\u001b[1;31mSyntaxError\u001b[0m\u001b[1;31m:\u001b[0m invalid syntax\n"
     ]
    }
   ],
   "source": [
    "purchased_share = 2000\n",
    "\n",
    "one_share = print(\"$\",40)\n",
    "\n",
    "amount = purchased_share*one_share\n",
    "stockbroker = (purchased_share*one_share)*0.003\n",
    "\n",
    "payable_amount=amount+stockbroker\n",
    "\n",
    "sold_share=2000\n",
    "\n",
    "one_soldshare = print(\"$\",42)\n",
    "\n",
    "amount2 = sold_share*one_soldshare\n",
    "\n",
    "sold_stockbroker =(sold_share*one_soldshare)*0.003\n",
    "\n",
    "payable_amount2 = amount2*sold_stockbroker\n",
    "\n",
    "if paid_money :\n",
    "    print(amount)\n",
    "elif :\n",
    "        broker_commission\n",
    "        print(stockbroker+sold_stockbroker)\n",
    "elif :\n",
    "            sold_stock\n",
    "            print(amount2)\n",
    "            \n",
    "            else:\n",
    "                sold_commission\n",
    "                print(sold_stockbroker)\n",
    "                \n"
   ]
  },
  {
   "cell_type": "code",
   "execution_count": null,
   "metadata": {},
   "outputs": [],
   "source": []
  }
 ],
 "metadata": {
  "kernelspec": {
   "display_name": "Python 3",
   "language": "python",
   "name": "python3"
  },
  "language_info": {
   "codemirror_mode": {
    "name": "ipython",
    "version": 3
   },
   "file_extension": ".py",
   "mimetype": "text/x-python",
   "name": "python",
   "nbconvert_exporter": "python",
   "pygments_lexer": "ipython3",
   "version": "3.7.4"
  }
 },
 "nbformat": 4,
 "nbformat_minor": 4
}
