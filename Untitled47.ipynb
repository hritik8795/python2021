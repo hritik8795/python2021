{
 "cells": [
  {
   "cell_type": "code",
   "execution_count": null,
   "metadata": {},
   "outputs": [],
   "source": [
    "#!/usr/bin/env python3\n",
    "# Requires PyAudio and PySpeech.\n",
    "\n",
    "import speech_recognition as sr\n",
    "from time import ctime\n",
    "import time\n",
    "import os\n",
    "from gtts import gTTS\n",
    "\n",
    "def speak(audioString):\n",
    "    print(audioString)\n",
    "    tts = gTTS(text=audioString, lang='en')\n",
    "    tts.save(\"audio.mp3\")\n",
    "    os.system(\"mpg321 audio.mp3\")\n",
    "\n",
    "def recordAudio():\n",
    "    # Record Audio\n",
    "    r = sr.Recognizer()\n",
    "    with sr.Microphone() as source:\n",
    "         audio = r.listen(source)\n",
    "\n",
    "    # Speech recognition using Google Speech Recognition\n",
    "    data = \"\"\n",
    "    try:\n",
    "        # Uses the default API key\n",
    "        # To use another API key: `r.recognize_google(audio, key=\"GOOGLE_SPEECH_RECOGNITION_API_KEY\")`\n",
    "        data = r.recognize_google(audio)\n",
    "        print(\"You said: \" + data)\n",
    "    except sr.UnknownValueError:\n",
    "        print(\"Google Speech Recognition could not understand audio\")\n",
    "    except sr.RequestError as e:\n",
    "        print(\"Could not request results from Google Speech Recognition service; {0}\".format(e))\n",
    "\n",
    "    return data\n",
    "\n",
    "def jarvis(data):\n",
    "    if \"how are you\" in data:\n",
    "        speak(\"I am fine\")\n",
    "\n",
    "    if \"what time is it\" in data:\n",
    "        speak(ctime())\n",
    "\n",
    "    if \"where is\" in data:\n",
    "        data = data.split(\" \")\n",
    "        location = data[2]\n",
    "        speak(\"Hold on Frank, I will show you where \" + location + \" is.\")\n",
    "        os.system(\"chromium-browser https://www.google.nl/maps/place/\" + location + \"/&amp;\")\n",
    "\n",
    "# initialization\n",
    "time.sleep(2)\n",
    "speak(\"Hi Frank, what can I do for you?\")\n",
    "while 1:\n",
    "    data = recordAudio()\n",
    "    jarvis(data)"
   ]
  },
  {
   "cell_type": "code",
   "execution_count": null,
   "metadata": {},
   "outputs": [],
   "source": []
  },
  {
   "cell_type": "code",
   "execution_count": null,
   "metadata": {},
   "outputs": [],
   "source": []
  }
 ],
 "metadata": {
  "kernelspec": {
   "display_name": "Python 3",
   "language": "python",
   "name": "python3"
  },
  "language_info": {
   "codemirror_mode": {
    "name": "ipython",
    "version": 3
   },
   "file_extension": ".py",
   "mimetype": "text/x-python",
   "name": "python",
   "nbconvert_exporter": "python",
   "pygments_lexer": "ipython3",
   "version": "3.7.4"
  }
 },
 "nbformat": 4,
 "nbformat_minor": 4
}
