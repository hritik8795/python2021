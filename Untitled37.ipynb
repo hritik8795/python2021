{
 "cells": [
  {
   "cell_type": "code",
   "execution_count": 14,
   "metadata": {},
   "outputs": [
    {
     "name": "stdout",
     "output_type": "stream",
     "text": [
      "[4.0, 5.0, 6.0, 5.0]\n"
     ]
    }
   ],
   "source": [
    "def average_function(l1,l2):\n",
    "    average=[]\n",
    "    for  pair in zip (l1,l2):\n",
    "        average.append(sum(pair)/len(pair))\n",
    "    return average\n",
    "print(average_function([1,2,3,4],[7,8,9,6]))\n",
    "        "
   ]
  },
  {
   "cell_type": "code",
   "execution_count": 20,
   "metadata": {},
   "outputs": [
    {
     "name": "stdout",
     "output_type": "stream",
     "text": [
      "[16.483333333333334, 27.0]\n"
     ]
    }
   ],
   "source": [
    "def average_function(l1,l2,l3):\n",
    "    average= []\n",
    "    for pair in zip(l1,l2,l3):\n",
    "        average.append(sum(pair)/len(pair))\n",
    "    return average\n",
    "print(average_function([1,2,3],[3.45,56],[45,23,12]))\n",
    "                       "
   ]
  },
  {
   "cell_type": "code",
   "execution_count": null,
   "metadata": {},
   "outputs": [],
   "source": []
  }
 ],
 "metadata": {
  "kernelspec": {
   "display_name": "Python 3",
   "language": "python",
   "name": "python3"
  },
  "language_info": {
   "codemirror_mode": {
    "name": "ipython",
    "version": 3
   },
   "file_extension": ".py",
   "mimetype": "text/x-python",
   "name": "python",
   "nbconvert_exporter": "python",
   "pygments_lexer": "ipython3",
   "version": "3.7.4"
  }
 },
 "nbformat": 4,
 "nbformat_minor": 4
}
