{
 "cells": [
  {
   "cell_type": "code",
   "execution_count": 1,
   "metadata": {},
   "outputs": [
    {
     "name": "stdout",
     "output_type": "stream",
     "text": [
      "guess a number between 1 to 10012\n",
      "too low\n",
      "guess again72\n",
      "too high\n",
      "guess again52\n",
      "too high\n",
      "guess again42\n",
      "too high\n",
      "guess again2\n",
      "too low\n",
      "guess again22\n",
      "too high\n",
      "guess again19\n",
      "too high\n",
      "guess again12\n",
      "too low\n",
      "guess again15\n",
      "too low\n",
      "guess again17\n",
      "you win, and you guessed this number in (guess) time\n"
     ]
    }
   ],
   "source": [
    "import random\n",
    "\n",
    "winning_number = random.randint(1, 100)\n",
    "guess = 1\n",
    "number = int(input(\"guess a number between 1 to 100\"))\n",
    "game_over = False\n",
    "while not game_over:\n",
    "    if number == winning_number:\n",
    "        print(f\"you win, and you guessed this number in (guess\"f\") time\")\n",
    "        game_over = True\n",
    "    else:\n",
    "        if number<winning_number:\n",
    "            print(\"too low\")\n",
    "            guess +=1\n",
    "            number = int(input(\"guess again\"))\n",
    "        else:\n",
    "            print(\"too high\")\n",
    "            guess += 1\n",
    "            number = int(input(\"guess again\"))\n",
    "\n"
   ]
  },
  {
   "cell_type": "code",
   "execution_count": null,
   "metadata": {},
   "outputs": [],
   "source": []
  }
 ],
 "metadata": {
  "kernelspec": {
   "display_name": "Python 3",
   "language": "python",
   "name": "python3"
  },
  "language_info": {
   "codemirror_mode": {
    "name": "ipython",
    "version": 3
   },
   "file_extension": ".py",
   "mimetype": "text/x-python",
   "name": "python",
   "nbconvert_exporter": "python",
   "pygments_lexer": "ipython3",
   "version": "3.7.4"
  }
 },
 "nbformat": 4,
 "nbformat_minor": 4
}
