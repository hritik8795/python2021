{
 "cells": [
  {
   "cell_type": "code",
   "execution_count": 8,
   "metadata": {},
   "outputs": [
    {
     "name": "stdout",
     "output_type": "stream",
     "text": [
      "3\n"
     ]
    }
   ],
   "source": [
    "#sum of digits using recusion \n",
    "def sumOfNumber(n):\n",
    "    assert n>=0 and int(n) == n,'the number must be a p[ositive integer '\n",
    "    if n==0:\n",
    "        return 0\n",
    "    else:\n",
    "        return int(n%10)+sumOfNumber(int(n/10))\n",
    "print(sumOfNumber(12))"
   ]
  },
  {
   "cell_type": "code",
   "execution_count": null,
   "metadata": {},
   "outputs": [],
   "source": []
  },
  {
   "cell_type": "code",
   "execution_count": null,
   "metadata": {},
   "outputs": [],
   "source": []
  },
  {
   "cell_type": "code",
   "execution_count": 11,
   "metadata": {},
   "outputs": [
    {
     "name": "stdout",
     "output_type": "stream",
     "text": [
      "64\n"
     ]
    }
   ],
   "source": [
    "def powerOfNumber(base,exp):\n",
    "    assert exp>=0 and int(exp)==exp,'the number must be an +ve integer'\n",
    "    if exp==0:\n",
    "        return 1\n",
    "    if exp==1:\n",
    "        return base\n",
    "    else:\n",
    "        return base*powerOfNumber(base,exp-1)\n",
    "print(powerOfNumber(4,3))"
   ]
  },
  {
   "cell_type": "code",
   "execution_count": 15,
   "metadata": {},
   "outputs": [
    {
     "name": "stdout",
     "output_type": "stream",
     "text": [
      "6\n"
     ]
    }
   ],
   "source": [
    "def gcd(a,b):\n",
    "    assert int(a)==a and int (b)==b,'the number must be +ve integer'\n",
    "    if a<0:\n",
    "        a=-1*a\n",
    "    if b<0:\n",
    "        b=-1*b\n",
    "    if b==0:\n",
    "        return a\n",
    "    else:\n",
    "        return gcd(b,a%b)\n",
    "print(gcd(48,18))"
   ]
  },
  {
   "cell_type": "code",
   "execution_count": 2,
   "metadata": {},
   "outputs": [
    {
     "name": "stdout",
     "output_type": "stream",
     "text": [
      "1111101\n"
     ]
    }
   ],
   "source": [
    "def decimalToBinary(n):\n",
    "    assert int(n)==n,'the number is always +ve number'\n",
    "    if n==0:\n",
    "        return 0\n",
    "    else:\n",
    "        return n%2 +10*decimalToBinary(int(n/2))\n",
    "print(decimalToBinary(125))"
   ]
  },
  {
   "cell_type": "code",
   "execution_count": 7,
   "metadata": {},
   "outputs": [
    {
     "name": "stdout",
     "output_type": "stream",
     "text": [
      "<function leap_year at 0x000000554CA760D8>\n"
     ]
    }
   ],
   "source": [
    "def leap_year(year):\n",
    "    assert int(year)==year,'the number iss +ve'\n",
    "    if (year%4==0 and year%100!=0 or year%400==0):\n",
    "        return leap_year\n",
    "    else:\n",
    "        return not_leap\n",
    "print(leap_year(2004))"
   ]
  },
  {
   "cell_type": "code",
   "execution_count": 1,
   "metadata": {},
   "outputs": [
    {
     "name": "stdout",
     "output_type": "stream",
     "text": [
      "21\n"
     ]
    }
   ],
   "source": [
    "def fibonacci(n):\n",
    "    assert n>=0 and int(n)==n,'the value is +ve integer '\n",
    "    if n in [0,1]:\n",
    "        return n\n",
    "    else:\n",
    "        return fibonacci(n-1)+fibonacci(n-2)\n",
    "print(fibonacci(8))"
   ]
  },
  {
   "cell_type": "code",
   "execution_count": 2,
   "metadata": {},
   "outputs": [
    {
     "name": "stdout",
     "output_type": "stream",
     "text": [
      "120\n"
     ]
    }
   ],
   "source": [
    "def factorial(n):\n",
    "    assert n>=0 and int(n)==n,'the number is always +ve and integer '\n",
    "    if n in [0,1]:\n",
    "        return n\n",
    "    else:\n",
    "        return n*factorial(n-1)\n",
    "print(factorial(5))"
   ]
  },
  {
   "cell_type": "code",
   "execution_count": 3,
   "metadata": {},
   "outputs": [
    {
     "name": "stdout",
     "output_type": "stream",
     "text": [
      "array('i', [1, 2, 3, 4, 5, 6])\n"
     ]
    }
   ],
   "source": [
    "from array import *\n",
    "arr1 = array('i',[1,2,3,4,5,6])\n",
    "print(arr1)"
   ]
  },
  {
   "cell_type": "code",
   "execution_count": 4,
   "metadata": {},
   "outputs": [
    {
     "name": "stdout",
     "output_type": "stream",
     "text": [
      "1\n",
      "2\n",
      "3\n",
      "4\n",
      "5\n",
      "6\n"
     ]
    }
   ],
   "source": [
    "#travesing of array\n",
    "from array import*\n",
    "arr1 = array('i',[1,2,3,4,5,6])\n",
    "def traverseArray(array):\n",
    "    for i in array:\n",
    "        print(i)\n",
    "traverseArray(arr1)"
   ]
  },
  {
   "cell_type": "code",
   "execution_count": 5,
   "metadata": {},
   "outputs": [
    {
     "name": "stdout",
     "output_type": "stream",
     "text": [
      "array('i', [1, 2, 3, 4, 5, 6, 7])\n"
     ]
    }
   ],
   "source": [
    "from array import *\n",
    "arr1 = array('i',[1,2,3,4,5,6])\n",
    "arr1.insert(6,7)\n",
    "print(arr1)"
   ]
  },
  {
   "cell_type": "code",
   "execution_count": 10,
   "metadata": {},
   "outputs": [
    {
     "name": "stdout",
     "output_type": "stream",
     "text": [
      "this element is not in the array\n"
     ]
    }
   ],
   "source": [
    "from array import *\n",
    "arr1 = array('i',[1,2,3,4,5,6])\n",
    "def accessTheArray(array,index):\n",
    "    if index>len(array):\n",
    "        print(\"this element is not in the array\")\n",
    "    else:\n",
    "        print(array[index])\n",
    "        \n",
    "accessTheArray(arr1,8)"
   ]
  },
  {
   "cell_type": "code",
   "execution_count": 14,
   "metadata": {},
   "outputs": [
    {
     "data": {
      "text/plain": [
       "3"
      ]
     },
     "execution_count": 14,
     "metadata": {},
     "output_type": "execute_result"
    }
   ],
   "source": [
    "from array import *\n",
    "arr1 = array('i',[1,2,3,4,5,6])\n",
    "def accessTheElement(array,value):\n",
    "    for i in array:\n",
    "        if i == value:\n",
    "            return array.index(value)\n",
    "    return \"this value is not exist in the array\"\n",
    "accessTheElement(arr1,4)"
   ]
  },
  {
   "cell_type": "code",
   "execution_count": 2,
   "metadata": {
    "collapsed": true
   },
   "outputs": [
    {
     "name": "stdout",
     "output_type": "stream",
     "text": [
      "1\n",
      "2\n",
      "3\n",
      "4\n",
      "5\n",
      "6\n"
     ]
    }
   ],
   "source": [
    "#create an array and traverse\n",
    "from array import *\n",
    "my_array = array('i',[1,2,3,4,5,6])\n",
    "for i in my_array:\n",
    "    print(i)\n"
   ]
  },
  {
   "cell_type": "code",
   "execution_count": 3,
   "metadata": {},
   "outputs": [
    {
     "name": "stdout",
     "output_type": "stream",
     "text": [
      "array('i', [1, 2, 3, 4, 5, 6, 9])\n"
     ]
    }
   ],
   "source": [
    "#access individual element through index\n",
    "from array import *\n",
    "my_array=array('i',[1,2,3,4,5,6])\n",
    "#append any value to the array using append()method\n",
    "#my_array.append(7)\n",
    "#insert a value using value by insert function\n",
    "#my_array.insert(6,8)\n",
    "my_array.extend([9])\n",
    "print(my_array)\n",
    "\n"
   ]
  },
  {
   "cell_type": "code",
   "execution_count": 1,
   "metadata": {},
   "outputs": [
    {
     "name": "stdout",
     "output_type": "stream",
     "text": [
      "[[12 13 14 16]\n",
      " [22 33 44 55]\n",
      " [21 32 43 54]\n",
      " [13 24 35 46]]\n",
      "[[12  1 13 14 16]\n",
      " [22  2 33 44 55]\n",
      " [21  3 32 43 54]\n",
      " [13  4 24 35 46]]\n"
     ]
    }
   ],
   "source": [
    "import numpy as np\n",
    "twoDArray = np.array([[12,13,14,16],[22,33,44,55],[21,32,43,54],[13,24,35,46]])\n",
    "print(twoDArray)\n",
    "\n",
    "newTDArray = np.insert(twoDArray,1,[[1,2,3,4]],axis=1)\n",
    "#newTDArray = np.append(twoDArray,[[2,3,4,5]],axis=0)\n",
    "print(newTDArray)\n"
   ]
  },
  {
   "cell_type": "markdown",
   "metadata": {},
   "source": [
    "\n",
    "\n",
    "\n",
    "\n",
    "## append any value to the array using append()method\n"
   ]
  },
  {
   "cell_type": "code",
   "execution_count": 5,
   "metadata": {
    "collapsed": true
   },
   "outputs": [
    {
     "name": "stdout",
     "output_type": "stream",
     "text": [
      "[[12 13 14 16]\n",
      " [22 33 44 55]\n",
      " [21 32 43 54]\n",
      " [13 24 35 46]]\n"
     ]
    },
    {
     "ename": "IndexError",
     "evalue": "index 4 is out of bounds for axis 0 with size 4",
     "output_type": "error",
     "traceback": [
      "\u001b[1;31m---------------------------------------------------------------------------\u001b[0m",
      "\u001b[1;31mIndexError\u001b[0m                                Traceback (most recent call last)",
      "\u001b[1;32m<ipython-input-5-dbefa584b812>\u001b[0m in \u001b[0;36m<module>\u001b[1;34m\u001b[0m\n\u001b[0;32m      9\u001b[0m         \u001b[0mprint\u001b[0m\u001b[1;33m(\u001b[0m\u001b[0marray\u001b[0m\u001b[1;33m[\u001b[0m\u001b[0mrowindex\u001b[0m\u001b[1;33m]\u001b[0m\u001b[1;33m[\u001b[0m\u001b[0mcolindex\u001b[0m\u001b[1;33m]\u001b[0m\u001b[1;33m)\u001b[0m\u001b[1;33m\u001b[0m\u001b[1;33m\u001b[0m\u001b[0m\n\u001b[0;32m     10\u001b[0m \u001b[1;33m\u001b[0m\u001b[0m\n\u001b[1;32m---> 11\u001b[1;33m \u001b[0maccessElement\u001b[0m\u001b[1;33m(\u001b[0m\u001b[0mtwoDArray\u001b[0m\u001b[1;33m,\u001b[0m\u001b[1;36m0\u001b[0m\u001b[1;33m,\u001b[0m\u001b[1;36m4\u001b[0m\u001b[1;33m)\u001b[0m\u001b[1;33m\u001b[0m\u001b[1;33m\u001b[0m\u001b[0m\n\u001b[0m\u001b[0;32m     12\u001b[0m \u001b[1;33m\u001b[0m\u001b[0m\n",
      "\u001b[1;32m<ipython-input-5-dbefa584b812>\u001b[0m in \u001b[0;36maccessElement\u001b[1;34m(array, rowindex, colindex)\u001b[0m\n\u001b[0;32m      7\u001b[0m         \u001b[0mprint\u001b[0m\u001b[1;33m(\u001b[0m\u001b[1;34m\"this element is not exist\"\u001b[0m\u001b[1;33m)\u001b[0m\u001b[1;33m\u001b[0m\u001b[1;33m\u001b[0m\u001b[0m\n\u001b[0;32m      8\u001b[0m     \u001b[1;32melse\u001b[0m\u001b[1;33m:\u001b[0m\u001b[1;33m\u001b[0m\u001b[1;33m\u001b[0m\u001b[0m\n\u001b[1;32m----> 9\u001b[1;33m         \u001b[0mprint\u001b[0m\u001b[1;33m(\u001b[0m\u001b[0marray\u001b[0m\u001b[1;33m[\u001b[0m\u001b[0mrowindex\u001b[0m\u001b[1;33m]\u001b[0m\u001b[1;33m[\u001b[0m\u001b[0mcolindex\u001b[0m\u001b[1;33m]\u001b[0m\u001b[1;33m)\u001b[0m\u001b[1;33m\u001b[0m\u001b[1;33m\u001b[0m\u001b[0m\n\u001b[0m\u001b[0;32m     10\u001b[0m \u001b[1;33m\u001b[0m\u001b[0m\n\u001b[0;32m     11\u001b[0m \u001b[0maccessElement\u001b[0m\u001b[1;33m(\u001b[0m\u001b[0mtwoDArray\u001b[0m\u001b[1;33m,\u001b[0m\u001b[1;36m0\u001b[0m\u001b[1;33m,\u001b[0m\u001b[1;36m4\u001b[0m\u001b[1;33m)\u001b[0m\u001b[1;33m\u001b[0m\u001b[1;33m\u001b[0m\u001b[0m\n",
      "\u001b[1;31mIndexError\u001b[0m: index 4 is out of bounds for axis 0 with size 4"
     ]
    }
   ],
   "source": [
    "import numpy as np\n",
    "twoDArray = np.array([[12,13,14,16],[22,33,44,55],[21,32,43,54],[13,24,35,46]])\n",
    "print(twoDArray)\n",
    "\n",
    "def accessElement(array,rowindex,colindex):\n",
    "    if rowindex>=len(array) and colindex>=len(array):\n",
    "        print(\"this element is not exist\")\n",
    "    else:\n",
    "        print(array[rowindex][colindex])\n",
    "\n",
    "accessElement(twoDArray,0,4)\n",
    "    "
   ]
  },
  {
   "cell_type": "code",
   "execution_count": 10,
   "metadata": {
    "collapsed": true
   },
   "outputs": [
    {
     "name": "stdout",
     "output_type": "stream",
     "text": [
      "[[12 11 10  9]\n",
      " [21 22 23 24]\n",
      " [31 32 33 34]\n",
      " [51 23 24 54]]\n",
      "12\n",
      "11\n",
      "10\n",
      "9\n",
      "21\n",
      "22\n",
      "23\n",
      "24\n",
      "31\n",
      "32\n",
      "33\n",
      "34\n",
      "51\n",
      "23\n",
      "24\n",
      "54\n"
     ]
    }
   ],
   "source": [
    "import numpy as np\n",
    "oneArray=np.array([[12,11,10,9],[21,22,23,24],[31,32,33,34],[51,23,24,54]])\n",
    "print(oneArray)\n",
    "def traverseTwoDArray(array):\n",
    "    for i in range (len(array)):\n",
    "        for j in range (len(array)):\n",
    "            print(array[i][j])\n",
    "traverseTwoDArray(oneArray)\n",
    "                    "
   ]
  },
  {
   "cell_type": "code",
   "execution_count": 10,
   "metadata": {},
   "outputs": [
    {
     "ename": "SyntaxError",
     "evalue": "invalid syntax (<ipython-input-10-b1717a84107c>, line 8)",
     "output_type": "error",
     "traceback": [
      "\u001b[1;36m  File \u001b[1;32m\"<ipython-input-10-b1717a84107c>\"\u001b[1;36m, line \u001b[1;32m8\u001b[0m\n\u001b[1;33m    return the value located here\u001b[0m\n\u001b[1;37m                   ^\u001b[0m\n\u001b[1;31mSyntaxError\u001b[0m\u001b[1;31m:\u001b[0m invalid syntax\n"
     ]
    }
   ],
   "source": [
    "import numpy as np\n",
    "oneArray=np.array([12,11,10,9],[21,22,23,24],[31,32,33,34],[51,23,24,54])\n",
    "print(oneArray)\n",
    "def accessElement(array,value):\n",
    "    for i in range (len(array)):\n",
    "        for j in range (len(array[0])):\n",
    "            if i == value:\n",
    "            return the value located here \n",
    "            'str[i]+\" \" +str[j]\n",
    "             return \"the element is not found\""
   ]
  },
  {
   "cell_type": "code",
   "execution_count": 4,
   "metadata": {
    "collapsed": true
   },
   "outputs": [
    {
     "name": "stdout",
     "output_type": "stream",
     "text": [
      "enter the number1\n",
      "enter the number2\n",
      "enter the number3\n",
      "enter the number4\n",
      "enter the number5\n",
      "enter the numberdone\n",
      "average 3.0\n"
     ]
    }
   ],
   "source": [
    "count=0\n",
    "total = 0\n",
    "while(True):\n",
    "    inp = input(\"enter the number\")\n",
    "    if inp =='done':break\n",
    "    value = float(inp)\n",
    "    total = total+value\n",
    "    count = count+1\n",
    "    average = total/count\n",
    "print('average',average)"
   ]
  },
  {
   "cell_type": "code",
   "execution_count": 7,
   "metadata": {},
   "outputs": [
    {
     "name": "stdout",
     "output_type": "stream",
     "text": [
      "enter the number1\n",
      "enter the number2\n",
      "enter the number3\n",
      "enter the number4\n",
      "enter the numberdone\n",
      "average 2.5\n"
     ]
    }
   ],
   "source": [
    "myList=list()\n",
    "while(True):\n",
    "    inp = input(\"enter the number\")\n",
    "    if inp =='done':break\n",
    "    value = float(inp)\n",
    "    myList.append(value)\n",
    "    average = sum(myList)/len(myList)\n",
    "print('average',average)"
   ]
  },
  {
   "cell_type": "code",
   "execution_count": null,
   "metadata": {},
   "outputs": [],
   "source": []
  }
 ],
 "metadata": {
  "kernelspec": {
   "display_name": "Python 3",
   "language": "python",
   "name": "python3"
  },
  "language_info": {
   "codemirror_mode": {
    "name": "ipython",
    "version": 3
   },
   "file_extension": ".py",
   "mimetype": "text/x-python",
   "name": "python",
   "nbconvert_exporter": "python",
   "pygments_lexer": "ipython3",
   "version": "3.7.4"
  }
 },
 "nbformat": 4,
 "nbformat_minor": 4
}
