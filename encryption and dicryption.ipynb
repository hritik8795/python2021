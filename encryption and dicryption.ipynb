{
 "cells": [
  {
   "cell_type": "code",
   "execution_count": 17,
   "metadata": {},
   "outputs": [
    {
     "name": "stdout",
     "output_type": "stream",
     "text": [
      "enter the codehritik\n",
      "mwnynp\n",
      "hritik\n"
     ]
    }
   ],
   "source": [
    "code=input(\"enter the code\")\n",
    "alphabets=\"abcdefghijklmnopqrstuvwxyz\"\n",
    "key=5\n",
    "encrypt=''\n",
    "decrypt=''\n",
    "for i in code:\n",
    "    position=alphabets.find(i)\n",
    "    newposition=(position+5)%26\n",
    "    encrypt+=alphabets[newposition]\n",
    "print(encrypt)\n",
    "for i in encrypt:\n",
    "        pos =alphabets.find(i)\n",
    "        newpos=(pos-5)%26\n",
    "        decrypt+=alphabets[newpos]\n",
    "print(decrypt) "
   ]
  },
  {
   "cell_type": "code",
   "execution_count": 11,
   "metadata": {},
   "outputs": [
    {
     "name": "stdout",
     "output_type": "stream",
     "text": [
      "enter the message hrititk\n",
      "jtkvkvm\n",
      "hrititk\n"
     ]
    }
   ],
   "source": [
    "message =input(\"enter the message\"+\" \")\n",
    "alpha=\"abcdefghijklmnopqrstuvwxyz\"\n",
    "key=2\n",
    "encrypt=''\n",
    "decrypt=''\n",
    "for i in message:\n",
    "    position =alpha.find(i)\n",
    "    newposition=(position+2)%26                 #(position +2)%26=0\n",
    "    encrypt+=alpha[newposition]\n",
    "print(encrypt)\n",
    "\n",
    "for i in encrypt:\n",
    "    positio =alpha.find(i)\n",
    "    newpositio=(positio-2)%26\n",
    "    decrypt+=alpha[newpositio]\n",
    "print(decrypt)\n",
    "    "
   ]
  },
  {
   "cell_type": "code",
   "execution_count": null,
   "metadata": {},
   "outputs": [],
   "source": []
  }
 ],
 "metadata": {
  "kernelspec": {
   "display_name": "Python 3",
   "language": "python",
   "name": "python3"
  },
  "language_info": {
   "codemirror_mode": {
    "name": "ipython",
    "version": 3
   },
   "file_extension": ".py",
   "mimetype": "text/x-python",
   "name": "python",
   "nbconvert_exporter": "python",
   "pygments_lexer": "ipython3",
   "version": "3.7.4"
  }
 },
 "nbformat": 4,
 "nbformat_minor": 4
}
