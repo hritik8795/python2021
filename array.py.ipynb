{
 "cells": [
  {
   "cell_type": "code",
   "execution_count": null,
   "metadata": {},
   "outputs": [],
   "source": [
    "n = int(input())\n",
    "a = [int(x) for x in input().split()]\n",
    "largest = secondlargest = -100\n",
    "for x in a:\n",
    "    if x > largest:\n",
    "        tmp = largest\n",
    "        largest = x\n",
    "        secondlargest = tmp\n",
    "    elif x > secondlargest and x != largest:\n",
    "        secondlargest = x\n",
    "print(secondlargest)"
   ]
  }
 ],
 "metadata": {
  "kernelspec": {
   "display_name": "Python 3",
   "language": "python",
   "name": "python3"
  },
  "language_info": {
   "codemirror_mode": {
    "name": "ipython",
    "version": 3
   },
   "file_extension": ".py",
   "mimetype": "text/x-python",
   "name": "python",
   "nbconvert_exporter": "python",
   "pygments_lexer": "ipython3",
   "version": "3.7.4"
  }
 },
 "nbformat": 4,
 "nbformat_minor": 4
}
