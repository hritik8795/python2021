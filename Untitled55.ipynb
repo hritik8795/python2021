{
 "cells": [
  {
   "cell_type": "code",
   "execution_count": 11,
   "metadata": {},
   "outputs": [
    {
     "name": "stdout",
     "output_type": "stream",
     "text": [
      "10.25\n",
      "17\n",
      "5\n"
     ]
    },
    {
     "data": {
      "text/plain": [
       "13"
      ]
     },
     "execution_count": 11,
     "metadata": {},
     "output_type": "execute_result"
    }
   ],
   "source": [
    "meal_cost=float(input())\n",
    "tip_percent=int(input())\n",
    "tax_percentage=int(input())\n",
    "\n",
    "total_cost=meal_cost + (meal_cost*(tip_percent/100)) + (meal_cost*(tax_percentage/100))\n",
    "round(total_cost)"
   ]
  },
  {
   "cell_type": "code",
   "execution_count": 16,
   "metadata": {},
   "outputs": [
    {
     "name": "stdout",
     "output_type": "stream",
     "text": [
      "10.25\n",
      "15\n",
      "5\n"
     ]
    },
    {
     "data": {
      "text/plain": [
       "12"
      ]
     },
     "execution_count": 16,
     "metadata": {},
     "output_type": "execute_result"
    }
   ],
   "source": [
    "meal_cost=float(input())\n",
    "tip_percent=int(input())\n",
    "tax_percentage=int(input())\n",
    "\n",
    "tip=meal_cost*(tip_percent/100)\n",
    "tax=meal_cost*(tax_percentage/100)\n",
    "\n",
    "total_cost=int(round(meal_cost+tip+tax))\n",
    "round(total_cost)\n"
   ]
  },
  {
   "cell_type": "code",
   "execution_count": 21,
   "metadata": {},
   "outputs": [
    {
     "name": "stdout",
     "output_type": "stream",
     "text": [
      "12\n",
      "12\n",
      "12\n",
      "16\n",
      "16.0\n",
      "HackerRank 12\n"
     ]
    }
   ],
   "source": [
    "i = 4\n",
    "d = 4.0\n",
    "s = 'HackerRank '\n",
    "\n",
    "f=int(input())\n",
    "\n",
    "e=float(input())\n",
    "t=str(input())\n",
    "\n",
    "print(i+f)\n",
    "print(d+e)\n",
    "print(s+t)\n"
   ]
  },
  {
   "cell_type": "code",
   "execution_count": null,
   "metadata": {},
   "outputs": [],
   "source": []
  }
 ],
 "metadata": {
  "kernelspec": {
   "display_name": "Python 3",
   "language": "python",
   "name": "python3"
  },
  "language_info": {
   "codemirror_mode": {
    "name": "ipython",
    "version": 3
   },
   "file_extension": ".py",
   "mimetype": "text/x-python",
   "name": "python",
   "nbconvert_exporter": "python",
   "pygments_lexer": "ipython3",
   "version": "3.7.4"
  }
 },
 "nbformat": 4,
 "nbformat_minor": 4
}
