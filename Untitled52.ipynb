{
 "cells": [
  {
   "cell_type": "code",
   "execution_count": 5,
   "metadata": {},
   "outputs": [
    {
     "name": "stdout",
     "output_type": "stream",
     "text": [
      "54\n",
      "not wired\n",
      "not wired\n",
      "not wired\n",
      "wired\n",
      "wired\n",
      "wired\n",
      "wired\n",
      "wired\n",
      "wired\n",
      "wired\n",
      "wired\n",
      "wired\n",
      "wired\n",
      "wired\n",
      "wired\n",
      "wired\n",
      "wired\n"
     ]
    }
   ],
   "source": [
    "n=int(input(\"\"))\n",
    "if(n%2!=0):\n",
    "    print(\"wired\")\n",
    "elif(n%2==0):\n",
    "    for n in range(2,5):\n",
    "        print(\"not wired\")\n",
    "    for n in range(6,20):\n",
    "            print(\"wired\")\n",
    "elif(n>20):\n",
    "    print(\"not wired\")\n",
    "else:\n",
    "    print(\"wired\")"
   ]
  },
  {
   "cell_type": "code",
   "execution_count": 3,
   "metadata": {},
   "outputs": [
    {
     "ename": "SyntaxError",
     "evalue": "invalid syntax (<ipython-input-3-c45b250c38a6>, line 6)",
     "output_type": "error",
     "traceback": [
      "\u001b[1;36m  File \u001b[1;32m\"<ipython-input-3-c45b250c38a6>\"\u001b[1;36m, line \u001b[1;32m6\u001b[0m\n\u001b[1;33m    else(n%2==0):\u001b[0m\n\u001b[1;37m        ^\u001b[0m\n\u001b[1;31mSyntaxError\u001b[0m\u001b[1;31m:\u001b[0m invalid syntax\n"
     ]
    }
   ],
   "source": [
    "n=int(input(\"\"))\n",
    "if(n%2!=0):\n",
    "    print(\"wired\")\n",
    "elif(n>20):\n",
    "    print(\"not wired\")\n",
    "else(n%2==0):\n",
    "    for n in range(2,5):\n",
    "        print(\"not wired\")\n",
    "        for n in range(6,20):\n",
    "            print(\"wired\")"
   ]
  },
  {
   "cell_type": "code",
   "execution_count": 31,
   "metadata": {},
   "outputs": [
    {
     "name": "stdout",
     "output_type": "stream",
     "text": [
      "2\n",
      "not wired\n",
      "not wired\n",
      "not wired\n",
      "wired\n",
      "wired\n",
      "wired\n",
      "wired\n",
      "wired\n",
      "wired\n",
      "wired\n",
      "wired\n",
      "wired\n",
      "wired\n",
      "wired\n",
      "wired\n",
      "wired\n",
      "wired\n"
     ]
    }
   ],
   "source": [
    "n=int (input())\n",
    "if(n<20):\n",
    "    for n in range (2,5):\n",
    "         print(\"not wired\")\n",
    "    for n in range(6,20):\n",
    "        print(\"wired\")\n",
    "else:\n",
    "    print(\"not wired\")"
   ]
  },
  {
   "cell_type": "code",
   "execution_count": 6,
   "metadata": {
    "collapsed": true
   },
   "outputs": [
    {
     "name": "stdout",
     "output_type": "stream",
     "text": [
      "54\n",
      "Not Weird\n"
     ]
    }
   ],
   "source": [
    "n = int(input())\n",
    "if n % 2 == 0:\n",
    "    if n in range(2,6):\n",
    "        print(\"Not Weird\")\n",
    "\n",
    "    elif n in range(6,21):\n",
    "        print(\"Weird\")\n",
    "\n",
    "    elif n > 20:\n",
    "        print(\"Not Weird\")\n",
    "else:\n",
    "    print(\"Weird\")"
   ]
  },
  {
   "cell_type": "code",
   "execution_count": 9,
   "metadata": {},
   "outputs": [
    {
     "ename": "IndentationError",
     "evalue": "expected an indented block (<ipython-input-9-02100ebc143a>, line 8)",
     "output_type": "error",
     "traceback": [
      "\u001b[1;36m  File \u001b[1;32m\"<ipython-input-9-02100ebc143a>\"\u001b[1;36m, line \u001b[1;32m8\u001b[0m\n\u001b[1;33m    print(\"wired\")\u001b[0m\n\u001b[1;37m        ^\u001b[0m\n\u001b[1;31mIndentationError\u001b[0m\u001b[1;31m:\u001b[0m expected an indented block\n"
     ]
    }
   ],
   "source": []
  },
  {
   "cell_type": "code",
   "execution_count": 53,
   "metadata": {},
   "outputs": [
    {
     "name": "stdout",
     "output_type": "stream",
     "text": [
      "year2000\n",
      "no a leap \n"
     ]
    }
   ],
   "source": [
    "year=int(input(\"year\"))\n",
    "if year%4==0 and year%100!=0:\n",
    "    print(\"leap\")\n",
    "elif(year%100==0):\n",
    "    print(\"no a leap \")\n",
    "elif(year%400==0):\n",
    "    print(\"leap\")\n",
    "else:\n",
    "    print(\"not leap\")"
   ]
  },
  {
   "cell_type": "code",
   "execution_count": 12,
   "metadata": {},
   "outputs": [
    {
     "name": "stdout",
     "output_type": "stream",
     "text": [
      "4000\n",
      "False\n"
     ]
    }
   ],
   "source": [
    "def is_leap(year):\n",
    "    if year%4==0 and year%100!=0:\n",
    "        return True\n",
    "    elif(year%100==0):\n",
    "        return False\n",
    "    elif(year%400==0):\n",
    "        return True\n",
    "    else:\n",
    "        return False\n",
    "year = int(input())\n",
    "print(is_leap(year))\n"
   ]
  },
  {
   "cell_type": "markdown",
   "metadata": {},
   "source": [
    "def is_leap(year):    \n",
    "    if year%4==0:\n",
    "        return True\n",
    "    elif year%100==0:\n",
    "        return False\n",
    "    elif year%400==0:\n",
    "        return True\n",
    "    else:\n",
    "        return False\n",
    "year=int(input())\n",
    "print(is_leap(year))"
   ]
  },
  {
   "cell_type": "code",
   "execution_count": 3,
   "metadata": {},
   "outputs": [
    {
     "name": "stdout",
     "output_type": "stream",
     "text": [
      "2000\n",
      "False\n"
     ]
    }
   ],
   "source": [
    "def is_leap(year):\n",
    "    if year%4==0 and year%100!=0:\n",
    "        return True\n",
    "    elif(year%100==0):\n",
    "        return False\n",
    "    elif(year%400==0):\n",
    "        return True\n",
    "    else:\n",
    "        return False\n",
    "year = int(input())\n",
    "print(is_leap(year))"
   ]
  },
  {
   "cell_type": "code",
   "execution_count": 8,
   "metadata": {},
   "outputs": [
    {
     "ename": "IndentationError",
     "evalue": "expected an indented block (<ipython-input-8-6fdab24f049a>, line 3)",
     "output_type": "error",
     "traceback": [
      "\u001b[1;36m  File \u001b[1;32m\"<ipython-input-8-6fdab24f049a>\"\u001b[1;36m, line \u001b[1;32m3\u001b[0m\n\u001b[1;33m    if(year % 100)==0:\u001b[0m\n\u001b[1;37m     ^\u001b[0m\n\u001b[1;31mIndentationError\u001b[0m\u001b[1;31m:\u001b[0m expected an indented block\n"
     ]
    }
   ],
   "source": [
    "year=int(input())\n",
    "if(year % 4)==0:\n",
    "if(year % 100)==0:\n",
    "if(year % 400)==0:\n",
    "    print(\"{0} is a leap year\".format(year))\n",
    "else:\n",
    "    print(\"{0} is not a leap year\".format(year))\n",
    "else:\n",
    "    print(\"{0} is a leap year\".format(year))\n",
    "else:\n",
    "    print(\"{0} is not a leap year\".format(year))"
   ]
  },
  {
   "cell_type": "code",
   "execution_count": null,
   "metadata": {},
   "outputs": [],
   "source": []
  }
 ],
 "metadata": {
  "kernelspec": {
   "display_name": "Python 3",
   "language": "python",
   "name": "python3"
  },
  "language_info": {
   "codemirror_mode": {
    "name": "ipython",
    "version": 3
   },
   "file_extension": ".py",
   "mimetype": "text/x-python",
   "name": "python",
   "nbconvert_exporter": "python",
   "pygments_lexer": "ipython3",
   "version": "3.7.4"
  }
 },
 "nbformat": 4,
 "nbformat_minor": 4
}
