{
 "cells": [
  {
   "cell_type": "code",
   "execution_count": 14,
   "metadata": {},
   "outputs": [
    {
     "name": "stdout",
     "output_type": "stream",
     "text": [
      "enter the name of the passengerhritik\n",
      "enter the miles that travel by the passenger3452\n",
      "entert the no of gallaon used 34\n",
      "hii hritik 101.52941176470588 galllon of fuel u used\n"
     ]
    }
   ],
   "source": [
    "name=input(\"enter the name of the passenger\")\n",
    "miles=float(input(\"enter the miles that travel by the passenger\"))\n",
    "nog=float(input(\"entert the no of gallaon used \"))\n",
    "\n",
    "mpg=miles/nog\n",
    "\n",
    "print(\"hii\",name,mpg,\"galllon of fuel u used\")\n",
    "\n"
   ]
  },
  {
   "cell_type": "code",
   "execution_count": null,
   "metadata": {},
   "outputs": [],
   "source": [
    "#yahan hume cookie banana hai \n",
    "all_cookies=48\n",
    "sugar_all_cookies=1.5\n",
    "butter_all_cookies=1\n",
    "flour_all_cookies=2.75\n"
   ]
  }
 ],
 "metadata": {
  "kernelspec": {
   "display_name": "Python 3",
   "language": "python",
   "name": "python3"
  },
  "language_info": {
   "codemirror_mode": {
    "name": "ipython",
    "version": 3
   },
   "file_extension": ".py",
   "mimetype": "text/x-python",
   "name": "python",
   "nbconvert_exporter": "python",
   "pygments_lexer": "ipython3",
   "version": "3.7.4"
  }
 },
 "nbformat": 4,
 "nbformat_minor": 4
}
