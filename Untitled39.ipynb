{
 "cells": [
  {
   "cell_type": "code",
   "execution_count": 15,
   "metadata": {},
   "outputs": [
    {
     "name": "stdout",
     "output_type": "stream",
     "text": [
      "enter your nmehrieej\n",
      "enter your age49\n",
      "adult\n"
     ]
    }
   ],
   "source": [
    "name= input(\"enter your nme\")\n",
    "age = float(input(\"enter your age\"))\n",
    "\n",
    "if age <1:\n",
    "    print(\"infant\")\n",
    "elif 1<age<13:\n",
    "    print(\"child\")\n",
    "elif  13<age<20:\n",
    "    print(\"teenager\")\n",
    "else:\n",
    "    print(\"adult\")"
   ]
  },
  {
   "cell_type": "code",
   "execution_count": 18,
   "metadata": {},
   "outputs": [
    {
     "name": "stdout",
     "output_type": "stream",
     "text": [
      "['1:I', '2:II', '3:(III)', '4:(IV)', '5:(V)', '6:[VI]', '7:(VII)', '8:(VIII)', '9:(IX)', '10:(X)']\n"
     ]
    }
   ],
   "source": [
    "\n",
    "    \n",
    "    "
   ]
  },
  {
   "cell_type": "code",
   "execution_count": 22,
   "metadata": {},
   "outputs": [
    {
     "name": "stdout",
     "output_type": "stream",
     "text": [
      "enter the objects mass1\n",
      "your weigh is 9.8\n",
      "too low\n"
     ]
    }
   ],
   "source": [
    "mass=float(input(\"enter the objects mass\"))\n",
    "weigh= mass*9.8\n",
    "print(\"your weigh is\",weigh)\n",
    "\n",
    "if weigh>500:\n",
    "    print(\"too heavy\")\n",
    "elif weigh<100:\n",
    "    print(\"too low\")\n",
    "else:\n",
    "        print(\"good\")"
   ]
  },
  {
   "cell_type": "code",
   "execution_count": null,
   "metadata": {},
   "outputs": [],
   "source": []
  }
 ],
 "metadata": {
  "kernelspec": {
   "display_name": "Python 3",
   "language": "python",
   "name": "python3"
  },
  "language_info": {
   "codemirror_mode": {
    "name": "ipython",
    "version": 3
   },
   "file_extension": ".py",
   "mimetype": "text/x-python",
   "name": "python",
   "nbconvert_exporter": "python",
   "pygments_lexer": "ipython3",
   "version": "3.7.4"
  }
 },
 "nbformat": 4,
 "nbformat_minor": 4
}
