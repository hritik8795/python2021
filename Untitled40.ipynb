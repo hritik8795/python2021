{
 "cells": [
  {
   "cell_type": "code",
   "execution_count": null,
   "metadata": {},
   "outputs": [],
   "source": [
    "print(\"welcome in our service\")\n",
    "number=int(input(\"enter your passsword\"))\n",
    "if number!=1234:\n",
    "    print(\"sorry\")\n",
    "else:\n",
    "    account_balance=100000\n",
    "    print(\"hii, solemn\")\n",
    "    print(\"what do you want\")\n",
    "    print(\"1.credit money\"\n",
    "          \"2.withdraw money\"\n",
    "          \"3.check balance\"\n",
    "          \"4.quit\")\n",
    "    while True :\n",
    "        option = int(input(\"enter from these option\"))\n",
    "        if (option ==1):\n",
    "            credited_money=int(input(\"enter money that you want to be credit\"))\n",
    "            print(\"your account balance is\",credited_money+account_balance)\n",
    "        elif (option ==2):\n",
    "                withdraw_money=int(input(\"enter money that you want to withdraw\"))\n",
    "                print(\"your current balance is \",account_balance-withdraw_money)\n",
    "        elif(option ==3):\n",
    "                print(\"your balance is  \",account_balance)\n",
    "        elif(option==4):\n",
    "                print(\"quit\")\n",
    "        continue"
   ]
  },
  {
   "cell_type": "code",
   "execution_count": null,
   "metadata": {},
   "outputs": [],
   "source": []
  }
 ],
 "metadata": {
  "kernelspec": {
   "display_name": "Python 3",
   "language": "python",
   "name": "python3"
  },
  "language_info": {
   "codemirror_mode": {
    "name": "ipython",
    "version": 3
   },
   "file_extension": ".py",
   "mimetype": "text/x-python",
   "name": "python",
   "nbconvert_exporter": "python",
   "pygments_lexer": "ipython3",
   "version": "3.7.4"
  }
 },
 "nbformat": 4,
 "nbformat_minor": 4
}
