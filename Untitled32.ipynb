{
 "cells": [
  {
   "cell_type": "code",
   "execution_count": 8,
   "metadata": {},
   "outputs": [
    {
     "name": "stdout",
     "output_type": "stream",
     "text": [
      "0--------->nasmemd\n",
      "1--------->amnfjdk\n",
      "2--------->mdjkf\n"
     ]
    }
   ],
   "source": [
    "names=['nasmemd','amnfjdk','mdjkf']\n",
    "pos=0\n",
    "for name in names:\n",
    "    print(f\"{pos}--------->{name}\")\n",
    "    pos+=1"
   ]
  },
  {
   "cell_type": "code",
   "execution_count": 9,
   "metadata": {},
   "outputs": [
    {
     "name": "stdout",
     "output_type": "stream",
     "text": [
      "0-------->nasmemd\n",
      "1-------->amnfjdk\n",
      "2-------->mdjkf\n"
     ]
    }
   ],
   "source": [
    "for pos,name in enumerate(names):\n",
    "    print(f\"{pos}-------->{name}\")"
   ]
  },
  {
   "cell_type": "code",
   "execution_count": 33,
   "metadata": {},
   "outputs": [
    {
     "name": "stdout",
     "output_type": "stream",
     "text": [
      "1\n"
     ]
    }
   ],
   "source": [
    "name=['mohan','sohan','hritik']\n",
    "def find_pos(l,target):\n",
    "    for pos ,name in enumerate(l):\n",
    "        if name ==target:\n",
    "            return pos\n",
    "            return -1\n",
    "print(find_pos(name,'sohan'))"
   ]
  },
  {
   "cell_type": "code",
   "execution_count": 41,
   "metadata": {},
   "outputs": [
    {
     "name": "stdout",
     "output_type": "stream",
     "text": [
      "[1, 4, 16, 25]\n"
     ]
    }
   ],
   "source": [
    "#map function\n",
    "\n",
    "numbers =[1,2,4,5]\n",
    "def square(a):\n",
    "    return a**2\n",
    "square = list(map(lambda a:a**2,numbers))\n",
    "print(square)"
   ]
  },
  {
   "cell_type": "code",
   "execution_count": 44,
   "metadata": {},
   "outputs": [
    {
     "name": "stdout",
     "output_type": "stream",
     "text": [
      "[1, 4, 16, 25]\n",
      "[1]\n",
      "[1, 4]\n",
      "[1, 4, 16]\n",
      "[1, 4, 16, 25]\n"
     ]
    }
   ],
   "source": [
    "#list comp:\n",
    "\n",
    "square_new =[i**2 for i in numbers]\n",
    "print(square_new)\n",
    "\n",
    "\n",
    "def square(a):\n",
    "    return a**2\n",
    "\n",
    "new_list =[]\n",
    "for num in numbers:\n",
    "    new_list.append(square(num))\n",
    "    print(new_list)"
   ]
  },
  {
   "cell_type": "code",
   "execution_count": 45,
   "metadata": {},
   "outputs": [
    {
     "ename": "IndentationError",
     "evalue": "unexpected indent (<ipython-input-45-eb88613e9c94>, line 2)",
     "output_type": "error",
     "traceback": [
      "\u001b[1;36m  File \u001b[1;32m\"<ipython-input-45-eb88613e9c94>\"\u001b[1;36m, line \u001b[1;32m2\u001b[0m\n\u001b[1;33m    length = map(len,name)\u001b[0m\n\u001b[1;37m    ^\u001b[0m\n\u001b[1;31mIndentationError\u001b[0m\u001b[1;31m:\u001b[0m unexpected indent\n"
     ]
    }
   ],
   "source": [
    "name = ['abc','abcdd','abcdfse']\n",
    "    length = map(len,name)\n",
    "    for i in length:\n",
    "        print(i)\n",
    "        \n",
    "        for j in length:\n",
    "            print(j)\n"
   ]
  },
  {
   "cell_type": "code",
   "execution_count": null,
   "metadata": {},
   "outputs": [],
   "source": []
  }
 ],
 "metadata": {
  "kernelspec": {
   "display_name": "Python 3",
   "language": "python",
   "name": "python3"
  },
  "language_info": {
   "codemirror_mode": {
    "name": "ipython",
    "version": 3
   },
   "file_extension": ".py",
   "mimetype": "text/x-python",
   "name": "python",
   "nbconvert_exporter": "python",
   "pygments_lexer": "ipython3",
   "version": "3.7.4"
  }
 },
 "nbformat": 4,
 "nbformat_minor": 4
}
