{
 "cells": [
  {
   "cell_type": "code",
   "execution_count": 19,
   "metadata": {
    "collapsed": true
   },
   "outputs": [
    {
     "name": "stdout",
     "output_type": "stream",
     "text": [
      "[2, 34, 676]\n",
      "[2, 34, 676]\n"
     ]
    }
   ],
   "source": [
    "def is_even(a):\n",
    "    return a%2==0\n",
    "numbers=[2,34,5,676,45,3,5,35,345,3453]\n",
    "even = filter(lambda a:a%2==0,numbers)\n",
    "\n",
    "new_evens=[i for i in numbers if i%2==0]\n",
    "print(list(even))\n",
    "print(new_evens)"
   ]
  },
  {
   "cell_type": "code",
   "execution_count": 21,
   "metadata": {},
   "outputs": [],
   "source": [
    "#iterator"
   ]
  },
  {
   "cell_type": "code",
   "execution_count": 23,
   "metadata": {
    "collapsed": true
   },
   "outputs": [
    {
     "name": "stdout",
     "output_type": "stream",
     "text": [
      "1\n",
      "4\n",
      "16\n",
      "25\n",
      "36\n"
     ]
    }
   ],
   "source": [
    "number=[1,2,4,5,6,7]\n",
    "square=map(lambda a:a**2,number)\n",
    "print(next(square))\n",
    "print(next(square))\n",
    "print(next(square))\n",
    "print(next(square))\n",
    "print(next(square))"
   ]
  },
  {
   "cell_type": "code",
   "execution_count": 24,
   "metadata": {},
   "outputs": [],
   "source": [
    "#zip fun ction this function is  use for combining thi two lists"
   ]
  },
  {
   "cell_type": "code",
   "execution_count": 27,
   "metadata": {
    "collapsed": true
   },
   "outputs": [
    {
     "name": "stdout",
     "output_type": "stream",
     "text": [
      "[('hritk', 'software engineer/ ias officer'), ('rishabh', 'doctor'), ('ritul', 'ias'), ('chetan', 'commando')]\n"
     ]
    }
   ],
   "source": [
    "n=['hritk','rishabh','ritul','chetan']\n",
    "b=['software engineer/ ias officer','doctor','ias','commando']\n",
    "print(list(zip(n,b)))"
   ]
  },
  {
   "cell_type": "code",
   "execution_count": 28,
   "metadata": {
    "collapsed": true
   },
   "outputs": [
    {
     "name": "stdout",
     "output_type": "stream",
     "text": [
      "[('hritk', 'software engineer/ ias officer'), ('rishabh', 'doctor'), ('ritul', 'ias'), ('chetan', 'commando')]\n"
     ]
    }
   ],
   "source": [
    "n=('hritk','rishabh','ritul','chetan')\n",
    "b=('software engineer/ ias officer','doctor','ias','commando')\n",
    "print(list(zip(n,b)))"
   ]
  },
  {
   "cell_type": "code",
   "execution_count": null,
   "metadata": {},
   "outputs": [],
   "source": [
    " "
   ]
  }
 ],
 "metadata": {
  "kernelspec": {
   "display_name": "Python 3",
   "language": "python",
   "name": "python3"
  },
  "language_info": {
   "codemirror_mode": {
    "name": "ipython",
    "version": 3
   },
   "file_extension": ".py",
   "mimetype": "text/x-python",
   "name": "python",
   "nbconvert_exporter": "python",
   "pygments_lexer": "ipython3",
   "version": "3.7.4"
  }
 },
 "nbformat": 4,
 "nbformat_minor": 4
}
