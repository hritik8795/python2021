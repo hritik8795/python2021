{
 "cells": [
  {
   "cell_type": "code",
   "execution_count": null,
   "metadata": {},
   "outputs": [],
   "source": [
    "import datetime\n",
    "\n",
    "from PIL import ImageGrab\n",
    "import numpy as np\n",
    "import cv2\n",
    "from win32api import GetSystemMetrics\n",
    "\n",
    "width = GetSystemMetrics(0)\n",
    "height = GetSystemMetrics(1)\n",
    "time_stamp = datetime.datetime.now().strftime('%Y-%m-%d %H-%M-%S')\n",
    "file_name = f'{time_stamp}.mp4'\n",
    "fourcc = cv2.VideoWriter_fourcc('m', 'p', '4', 'v')\n",
    "captured_video = cv2.VideoWriter(file_name, fourcc, 20.0, (width, height))\n",
    "\n",
    "webcam = cv2.VideoCapture(1)\n",
    "\n",
    "while True:\n",
    "    img = ImageGrab.grab(bbox=(0, 0, width, height))\n",
    "    img_np = np.array(img)\n",
    "    img_final = cv2.cvtColor(img_np, cv2.COLOR_BGR2RGB)\n",
    "    _, frame = webcam.read()\n",
    "    fr_height, fr_width, = frame.shape\n",
    "    img_final[0:fr_height, 0: fr_width, :] = frame[0: fr_height, 0: fr_width, :]\n",
    "    cv2.imshow('Secret Capture', img_final)\n",
    "\n",
    "    # cv2.imshow('webcam', frame)\n",
    "\n",
    "    captured_video.write(img_final)\n",
    "    if cv2.waitKey(10) == ord('q'):\n",
    "        break"
   ]
  },
  {
   "cell_type": "code",
   "execution_count": null,
   "metadata": {},
   "outputs": [],
   "source": []
  }
 ],
 "metadata": {
  "kernelspec": {
   "display_name": "Python 3",
   "language": "python",
   "name": "python3"
  },
  "language_info": {
   "codemirror_mode": {
    "name": "ipython",
    "version": 3
   },
   "file_extension": ".py",
   "mimetype": "text/x-python",
   "name": "python",
   "nbconvert_exporter": "python",
   "pygments_lexer": "ipython3",
   "version": "3.7.4"
  }
 },
 "nbformat": 4,
 "nbformat_minor": 4
}
