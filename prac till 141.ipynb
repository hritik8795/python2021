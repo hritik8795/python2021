{
 "cells": [
  {
   "cell_type": "code",
   "execution_count": 9,
   "metadata": {},
   "outputs": [
    {
     "name": "stdout",
     "output_type": "stream",
     "text": [
      "['cba', 'vut', 'gmb']\n"
     ]
    }
   ],
   "source": [
    "def reverse_str(l):\n",
    "    new_list =[]\n",
    "    for name in l:\n",
    "        new_list.append(name[: :-1])\n",
    "    return new_list\n",
    "print(reverse_str(['abc','tuv','bmg']))\n"
   ]
  },
  {
   "cell_type": "code",
   "execution_count": 12,
   "metadata": {},
   "outputs": [
    {
     "name": "stdout",
     "output_type": "stream",
     "text": [
      "['vut', 'bmnv', 'iioutr']\n"
     ]
    }
   ],
   "source": [
    "def reverse_string(l):\n",
    "    return[name[::-1]for name in l]\n",
    "print(reverse_str(['tuv','vnmb','rtuoii']))\n",
    "    "
   ]
  },
  {
   "cell_type": "code",
   "execution_count": 26,
   "metadata": {},
   "outputs": [
    {
     "name": "stdout",
     "output_type": "stream",
     "text": [
      "['kitirh', 'naman', 'likom']\n"
     ]
    }
   ],
   "source": [
    "def opp_string(m):\n",
    "    return[name[::-1]for name in m]\n",
    "print(opp_string(['hritik','naman','mokil']))"
   ]
  },
  {
   "cell_type": "code",
   "execution_count": 33,
   "metadata": {},
   "outputs": [
    {
     "name": "stdout",
     "output_type": "stream",
     "text": [
      "[[1, 3, 5, 7], [1, 3, 5, 7], [1, 3, 5, 7], [1, 3, 5, 7]]\n"
     ]
    }
   ],
   "source": [
    "#nested list list inside list\n",
    "#example=[[1,2,3,4],[4,56,7,],[23,45,6,7]]\n",
    "nest_comp=[[i for i in range(1,9,2)]for j in range(4)]\n",
    "print(nest_comp)\n"
   ]
  },
  {
   "cell_type": "code",
   "execution_count": 36,
   "metadata": {},
   "outputs": [
    {
     "name": "stdout",
     "output_type": "stream",
     "text": [
      "8\n"
     ]
    }
   ],
   "source": [
    "#intro of kwargs\n",
    "#a flexible funtion /when we do not know how many args preasent in our function\n",
    "\n",
    "def total (a,b):\n",
    "    return(a+b)\n",
    "print(total(3,5))"
   ]
  },
  {
   "cell_type": "code",
   "execution_count": 41,
   "metadata": {},
   "outputs": [
    {
     "name": "stdout",
     "output_type": "stream",
     "text": [
      "8\n"
     ]
    }
   ],
   "source": [
    "def all_total(*args):\n",
    "    total=0\n",
    "    for number in args:\n",
    "        total+=number\n",
    "    return total\n",
    "print(all_total(1,3,4))"
   ]
  },
  {
   "cell_type": "code",
   "execution_count": 53,
   "metadata": {},
   "outputs": [
    {
     "name": "stdout",
     "output_type": "stream",
     "text": [
      "4\n",
      "(44, 5, 55, 5, 6)\n",
      "363000\n"
     ]
    }
   ],
   "source": [
    "#args with the normal parameters\n",
    "def multiply_nums(num,*args):\n",
    "    multiply=1\n",
    "    print(num)\n",
    "    print(args)\n",
    "    for i in args:\n",
    "        multiply *=i\n",
    "    return multiply\n",
    "print(multiply_nums(4,44,5,55,5,6))"
   ]
  },
  {
   "cell_type": "code",
   "execution_count": null,
   "metadata": {},
   "outputs": [],
   "source": []
  },
  {
   "cell_type": "code",
   "execution_count": null,
   "metadata": {},
   "outputs": [],
   "source": []
  }
 ],
 "metadata": {
  "kernelspec": {
   "display_name": "Python 3",
   "language": "python",
   "name": "python3"
  },
  "language_info": {
   "codemirror_mode": {
    "name": "ipython",
    "version": 3
   },
   "file_extension": ".py",
   "mimetype": "text/x-python",
   "name": "python",
   "nbconvert_exporter": "python",
   "pygments_lexer": "ipython3",
   "version": "3.7.4"
  }
 },
 "nbformat": 4,
 "nbformat_minor": 4
}
