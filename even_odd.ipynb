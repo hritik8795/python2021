{
 "cells": [
  {
   "cell_type": "code",
   "execution_count": 20,
   "metadata": {},
   "outputs": [
    {
     "name": "stdout",
     "output_type": "stream",
     "text": [
      "[[1, 3, 5, 7], [2, 4, 6]]\n"
     ]
    }
   ],
   "source": [
    "def filter_odd_even(l):\n",
    "    odd_nums= []\n",
    "    even_nums= []\n",
    "    for i in l:\n",
    "        if i % 2 == 0:\n",
    "            even_nums.append(i)\n",
    "        else:\n",
    "            odd_nums.append(i)\n",
    "    output=[odd_nums,even_nums]\n",
    "    return output\n",
    "nums=[1,2,3,4,5,6,7]\n",
    "print(filter_odd_even(nums))\n",
    "            "
   ]
  },
  {
   "cell_type": "code",
   "execution_count": 26,
   "metadata": {},
   "outputs": [
    {
     "ename": "IndentationError",
     "evalue": "unexpected indent (<ipython-input-26-989c3c651431>, line 10)",
     "output_type": "error",
     "traceback": [
      "\u001b[1;36m  File \u001b[1;32m\"<ipython-input-26-989c3c651431>\"\u001b[1;36m, line \u001b[1;32m10\u001b[0m\n\u001b[1;33m    return output\u001b[0m\n\u001b[1;37m    ^\u001b[0m\n\u001b[1;31mIndentationError\u001b[0m\u001b[1;31m:\u001b[0m unexpected indent\n"
     ]
    }
   ],
   "source": [
    "def filter_odd_even(l):\n",
    "    even_nums = []\n",
    "    odd_nums =[]\n",
    "    for i in l:\n",
    "        if i % 2 ==0:\n",
    "            even.nums.append(i)\n",
    "        else:\n",
    "            odd_nums.append(i)\n",
    "    output=[odd_nums,even_nums]\n",
    "     return output\n",
    "num=[3,6,74,3,45,3,6,67,45,33]\n",
    "print(filter_odd_even(nums))\n",
    "                \n",
    "    \n"
   ]
  },
  {
   "cell_type": "code",
   "execution_count": null,
   "metadata": {},
   "outputs": [],
   "source": []
  },
  {
   "cell_type": "code",
   "execution_count": null,
   "metadata": {},
   "outputs": [],
   "source": []
  }
 ],
 "metadata": {
  "kernelspec": {
   "display_name": "Python 3",
   "language": "python",
   "name": "python3"
  },
  "language_info": {
   "codemirror_mode": {
    "name": "ipython",
    "version": 3
   },
   "file_extension": ".py",
   "mimetype": "text/x-python",
   "name": "python",
   "nbconvert_exporter": "python",
   "pygments_lexer": "ipython3",
   "version": "3.7.4"
  }
 },
 "nbformat": 4,
 "nbformat_minor": 4
}
