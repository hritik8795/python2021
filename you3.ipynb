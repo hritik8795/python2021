{
 "cells": [
  {
   "cell_type": "code",
   "execution_count": 4,
   "metadata": {},
   "outputs": [
    {
     "name": "stdout",
     "output_type": "stream",
     "text": [
      "enter the length of rectangl 139354.55655\n",
      "enter the breath of rectangle 123455.566\n",
      "923083398.5592573\n",
      "enter the length of rect233433444.33344\n",
      "enter the breath of rect233334400099889.45\n",
      "1.1144838101282706e+21\n",
      "area_of_rec2 is greater \n"
     ]
    }
   ],
   "source": [
    "length=float(input(\"enter the length of rectangl 1\"))\n",
    "breath=float(input(\"enter the breath of rectangle 1\"))\n",
    "area_of_rec=length*breath\n",
    "print(area_of_rec)\n",
    "length2=float(input(\"enter the length of rect2\"))\n",
    "breath2=float(input(\"enter the breath of rect2\"))\n",
    "area_of_rec2=length2*breath2\n",
    "print(area_of_rec2)\n",
    "\n",
    "if area_of_rec>area_of_rec2:\n",
    "    print(\"area_of_rec is grater\")\n",
    "else:\n",
    "        print(\"area_of_rec2 is greater \")"
   ]
  },
  {
   "cell_type": "code",
   "execution_count": null,
   "metadata": {},
   "outputs": [],
   "source": []
  }
 ],
 "metadata": {
  "kernelspec": {
   "display_name": "Python 3",
   "language": "python",
   "name": "python3"
  },
  "language_info": {
   "codemirror_mode": {
    "name": "ipython",
    "version": 3
   },
   "file_extension": ".py",
   "mimetype": "text/x-python",
   "name": "python",
   "nbconvert_exporter": "python",
   "pygments_lexer": "ipython3",
   "version": "3.7.4"
  }
 },
 "nbformat": 4,
 "nbformat_minor": 4
}
